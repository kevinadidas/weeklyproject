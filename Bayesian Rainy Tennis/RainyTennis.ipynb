{
 "cells": [
  {
   "cell_type": "markdown",
   "metadata": {},
   "source": [
    "A Baysian System is implemented in order to assess weather or not you should come to tennis training. Due to the fact that tennis is often played outside, the weather is crucial, especially when you live in a town like London where it rains a lot. Thus, it is difficult to know if you should stay at home a priori or risk to go to training and potentially drive home again due to rain. Also if there was rain the last day or in the morning, the courts might not be playable. \n",
    "\n"
   ]
  },
  {
   "cell_type": "markdown",
   "metadata": {},
   "source": [
    "Enteties: Weather (Sunny, Rain, Cloudy),  Court, Person (how long did you not see each other) "
   ]
  },
  {
   "cell_type": "code",
   "execution_count": 1,
   "metadata": {},
   "outputs": [
    {
     "ename": "SyntaxError",
     "evalue": "invalid syntax (<ipython-input-1-4ccff3e0a69c>, line 1)",
     "output_type": "error",
     "traceback": [
      "\u001b[1;36m  File \u001b[1;32m\"<ipython-input-1-4ccff3e0a69c>\"\u001b[1;36m, line \u001b[1;32m1\u001b[0m\n\u001b[1;33m    strange weather -> rain, cloudy -> playable\u001b[0m\n\u001b[1;37m                  ^\u001b[0m\n\u001b[1;31mSyntaxError\u001b[0m\u001b[1;31m:\u001b[0m invalid syntax\n"
     ]
    }
   ],
   "source": [
    "strange weather -> rainy, cloudy -> playable\n",
    "\n",
    "1. strange weather = 0.6\n",
    "\n",
    "2. Rainy\n",
    "\n",
    "P(Rainy | strange weather) = 0.6\n",
    "P(Rainy | not strange weather) = 0.1\n",
    "P(not Rainy | strange weather) = 0.4\n",
    "P(not Rainy | not strange weather) = 0.9\n",
    "\n",
    "2. Cloudy\n",
    "\n",
    "P(Cloudy | strange weather) = 0.9\n",
    "P(Cloudy | not strange weather) = 0.3\n",
    "P(not Cloudy | strange weather) = 0.1\n",
    "P(not Cloudy | not strange weather) = 0.7\n",
    "\n",
    "3. Playable\n",
    "\n",
    "\n",
    "P(Playbable | Yes Rainy, Yes Cloudy) = 0.01\n",
    "P(Playbable | Yes Rainy, No Cloudy) = 0.2\n",
    "P(Playbable | No Rainy, Yes Cloudy) = 0.8\n",
    "P(Playbable | No Rainy, No Cloudy) = 0.99\n",
    "\n"
   ]
  },
  {
   "cell_type": "code",
   "execution_count": 2,
   "metadata": {},
   "outputs": [],
   "source": [
    "import numpy as np\n"
   ]
  },
  {
   "cell_type": "code",
   "execution_count": 3,
   "metadata": {},
   "outputs": [],
   "source": [
    "from pgmpy.factors.discrete import TabularCPD"
   ]
  },
  {
   "cell_type": "code",
   "execution_count": 4,
   "metadata": {},
   "outputs": [],
   "source": [
    "from pgmpy.models import BayesianModel"
   ]
  },
  {
   "cell_type": "code",
   "execution_count": 25,
   "metadata": {},
   "outputs": [],
   "source": [
    "tennis_model = BayesianModel([('Strange Weather', 'Rainy'),\n",
    "                              ('Strange Weather', 'Cloudy'),\n",
    "                              ('Rainy', 'Playable'),\n",
    "                              ('Cloudy', 'Playable')])"
   ]
  },
  {
   "cell_type": "code",
   "execution_count": 26,
   "metadata": {},
   "outputs": [],
   "source": [
    "strangeweather_cpd = TabularCPD(\n",
    "    variable = 'Strange Weather',\n",
    "    variable_card = 2,   # cardinality\n",
    "    values = [[.6], [.4]])   # ['yes', 'no']"
   ]
  },
  {
   "cell_type": "code",
   "execution_count": 27,
   "metadata": {},
   "outputs": [],
   "source": [
    "rainy_cpd = TabularCPD(\n",
    "    variable = 'Rainy',\n",
    "    variable_card = 2,\n",
    "    values = [[.7, .1],\n",
    "              [.3, .9]],\n",
    "    evidence = ['Strange Weather'],\n",
    "    evidence_card = [2])"
   ]
  },
  {
   "cell_type": "code",
   "execution_count": 28,
   "metadata": {},
   "outputs": [],
   "source": [
    "cloudy_cpd = TabularCPD(\n",
    "    variable = 'Cloudy',\n",
    "    variable_card = 2,\n",
    "    values = [[.9, .3],\n",
    "              [.1, .7]],\n",
    "    evidence = ['Strange Weather'],\n",
    "    evidence_card = [2])"
   ]
  },
  {
   "cell_type": "code",
   "execution_count": 29,
   "metadata": {},
   "outputs": [],
   "source": [
    "playable_cpd = TabularCPD(\n",
    "    variable = 'Playable',\n",
    "    variable_card = 2,\n",
    "    values = [[0.01, .20, .80, 0.99],\n",
    "              [0.99, .80, .20, 0.01]],\n",
    "    evidence = ['Rainy', 'Cloudy'],\n",
    "    evidence_card = [2,2])"
   ]
  },
  {
   "cell_type": "code",
   "execution_count": 30,
   "metadata": {},
   "outputs": [],
   "source": [
    "tennis_model.add_cpds(strangeweather_cpd, rainy_cpd, cloudy_cpd, playable_cpd)"
   ]
  },
  {
   "cell_type": "code",
   "execution_count": 31,
   "metadata": {},
   "outputs": [
    {
     "data": {
      "text/plain": [
       "[<TabularCPD representing P(Strange Weather:2) at 0x1c41fd96088>,\n",
       " <TabularCPD representing P(Rainy:2 | Strange Weather:2) at 0x1c41fce0c48>,\n",
       " <TabularCPD representing P(Cloudy:2 | Strange Weather:2) at 0x1c41fcd4408>,\n",
       " <TabularCPD representing P(Playable:2 | Rainy:2, Cloudy:2) at 0x1c41fccf908>]"
      ]
     },
     "execution_count": 31,
     "metadata": {},
     "output_type": "execute_result"
    }
   ],
   "source": [
    "tennis_model.get_cpds()"
   ]
  },
  {
   "cell_type": "code",
   "execution_count": 32,
   "metadata": {},
   "outputs": [
    {
     "data": {
      "text/plain": [
       "{'Strange Weather': {'Cloudy', 'Playable', 'Rainy', 'Strange Weather'}}"
      ]
     },
     "execution_count": 32,
     "metadata": {},
     "output_type": "execute_result"
    }
   ],
   "source": [
    "tennis_model.active_trail_nodes('Strange Weather')"
   ]
  },
  {
   "cell_type": "code",
   "execution_count": 33,
   "metadata": {},
   "outputs": [
    {
     "data": {
      "text/plain": []
     },
     "execution_count": 33,
     "metadata": {},
     "output_type": "execute_result"
    }
   ],
   "source": [
    "tennis_model.local_independencies('Strange Weather')"
   ]
  },
  {
   "cell_type": "code",
   "execution_count": 34,
   "metadata": {},
   "outputs": [
    {
     "data": {
      "text/plain": [
       "(Rainy ⟂ Cloudy | Strange Weather)\n",
       "(Strange Weather ⟂ Playable | Rainy, Cloudy)\n",
       "(Playable ⟂ Strange Weather | Rainy, Cloudy)\n",
       "(Cloudy ⟂ Rainy | Strange Weather)"
      ]
     },
     "execution_count": 34,
     "metadata": {},
     "output_type": "execute_result"
    }
   ],
   "source": [
    "tennis_model.get_independencies()"
   ]
  },
  {
   "cell_type": "code",
   "execution_count": 35,
   "metadata": {},
   "outputs": [],
   "source": [
    "from pgmpy.inference import VariableElimination"
   ]
  },
  {
   "cell_type": "code",
   "execution_count": 37,
   "metadata": {},
   "outputs": [],
   "source": [
    "tennis_infer = VariableElimination(tennis_model)"
   ]
  },
  {
   "cell_type": "code",
   "execution_count": 41,
   "metadata": {},
   "outputs": [
    {
     "data": {
      "application/vnd.jupyter.widget-view+json": {
       "model_id": "6e2ee8fd70a1432ab390b0b59c7dcdde",
       "version_major": 2,
       "version_minor": 0
      },
      "text/plain": [
       "HBox(children=(FloatProgress(value=0.0, max=3.0), HTML(value='')))"
      ]
     },
     "metadata": {},
     "output_type": "display_data"
    },
    {
     "data": {
      "application/vnd.jupyter.widget-view+json": {
       "model_id": "8595cf82f1434cbe8851dcf4464c21e0",
       "version_major": 2,
       "version_minor": 0
      },
      "text/plain": [
       "HBox(children=(FloatProgress(value=0.0, max=3.0), HTML(value='')))"
      ]
     },
     "metadata": {},
     "output_type": "display_data"
    },
    {
     "name": "stdout",
     "output_type": "stream",
     "text": [
      "\n"
     ]
    }
   ],
   "source": [
    "prob_playable = tennis_infer.query(variables = ['Playable'], joint=False)"
   ]
  },
  {
   "cell_type": "code",
   "execution_count": 42,
   "metadata": {},
   "outputs": [
    {
     "name": "stdout",
     "output_type": "stream",
     "text": [
      "+-------------+-----------------+\n",
      "| Playable    |   phi(Playable) |\n",
      "+=============+=================+\n",
      "| Playable(0) |          0.5012 |\n",
      "+-------------+-----------------+\n",
      "| Playable(1) |          0.4988 |\n",
      "+-------------+-----------------+\n"
     ]
    }
   ],
   "source": [
    "print(prob_playable['Playable'])"
   ]
  },
  {
   "cell_type": "code",
   "execution_count": 45,
   "metadata": {},
   "outputs": [
    {
     "data": {
      "application/vnd.jupyter.widget-view+json": {
       "model_id": "19e1157a47b24e8da9546c50483846d5",
       "version_major": 2,
       "version_minor": 0
      },
      "text/plain": [
       "HBox(children=(FloatProgress(value=0.0, max=1.0), HTML(value='')))"
      ]
     },
     "metadata": {},
     "output_type": "display_data"
    },
    {
     "data": {
      "application/vnd.jupyter.widget-view+json": {
       "model_id": "f07a486f5e0145d788987deec5ec150a",
       "version_major": 2,
       "version_minor": 0
      },
      "text/plain": [
       "HBox(children=(FloatProgress(value=0.0, max=1.0), HTML(value='')))"
      ]
     },
     "metadata": {},
     "output_type": "display_data"
    },
    {
     "name": "stdout",
     "output_type": "stream",
     "text": [
      "\n"
     ]
    }
   ],
   "source": [
    "prob_rainy = tennis_infer.query(variables = ['Rainy'], joint=False)"
   ]
  },
  {
   "cell_type": "code",
   "execution_count": 46,
   "metadata": {},
   "outputs": [
    {
     "name": "stdout",
     "output_type": "stream",
     "text": [
      "+----------+--------------+\n",
      "| Rainy    |   phi(Rainy) |\n",
      "+==========+==============+\n",
      "| Rainy(0) |       0.4600 |\n",
      "+----------+--------------+\n",
      "| Rainy(1) |       0.5400 |\n",
      "+----------+--------------+\n"
     ]
    }
   ],
   "source": [
    "print(prob_rainy['Rainy'])"
   ]
  },
  {
   "cell_type": "code",
   "execution_count": 47,
   "metadata": {},
   "outputs": [
    {
     "data": {
      "application/vnd.jupyter.widget-view+json": {
       "model_id": "d29cf36404284383a20559c26a9d236d",
       "version_major": 2,
       "version_minor": 0
      },
      "text/plain": [
       "HBox(children=(FloatProgress(value=0.0, max=1.0), HTML(value='')))"
      ]
     },
     "metadata": {},
     "output_type": "display_data"
    },
    {
     "data": {
      "application/vnd.jupyter.widget-view+json": {
       "model_id": "8ce73c0eab9f40268810af0cf76dd53b",
       "version_major": 2,
       "version_minor": 0
      },
      "text/plain": [
       "HBox(children=(FloatProgress(value=0.0, max=1.0), HTML(value='')))"
      ]
     },
     "metadata": {},
     "output_type": "display_data"
    },
    {
     "name": "stdout",
     "output_type": "stream",
     "text": [
      "\n"
     ]
    }
   ],
   "source": [
    "prob_cloudy = tennis_infer.query(variables = ['Cloudy'], joint=False)"
   ]
  },
  {
   "cell_type": "code",
   "execution_count": 48,
   "metadata": {},
   "outputs": [
    {
     "name": "stdout",
     "output_type": "stream",
     "text": [
      "+-----------+---------------+\n",
      "| Cloudy    |   phi(Cloudy) |\n",
      "+===========+===============+\n",
      "| Cloudy(0) |        0.6600 |\n",
      "+-----------+---------------+\n",
      "| Cloudy(1) |        0.3400 |\n",
      "+-----------+---------------+\n"
     ]
    }
   ],
   "source": [
    "print(prob_cloudy['Cloudy'])"
   ]
  },
  {
   "cell_type": "code",
   "execution_count": 50,
   "metadata": {},
   "outputs": [
    {
     "data": {
      "application/vnd.jupyter.widget-view+json": {
       "model_id": "77e53418fea546859c1d964a4a113f63",
       "version_major": 2,
       "version_minor": 0
      },
      "text/plain": [
       "HBox(children=(FloatProgress(value=1.0, bar_style='info', max=1.0), HTML(value='')))"
      ]
     },
     "metadata": {},
     "output_type": "display_data"
    },
    {
     "data": {
      "application/vnd.jupyter.widget-view+json": {
       "model_id": "55f72c9ab60849e4b7b92dfc2e9bf25b",
       "version_major": 2,
       "version_minor": 0
      },
      "text/plain": [
       "HBox(children=(FloatProgress(value=1.0, bar_style='info', max=1.0), HTML(value='')))"
      ]
     },
     "metadata": {},
     "output_type": "display_data"
    },
    {
     "name": "stdout",
     "output_type": "stream",
     "text": [
      "\n"
     ]
    }
   ],
   "source": [
    "prob_strangeweather = tennis_infer.query(variables = ['Strange Weather'], joint=False)"
   ]
  },
  {
   "cell_type": "code",
   "execution_count": 51,
   "metadata": {},
   "outputs": [
    {
     "name": "stdout",
     "output_type": "stream",
     "text": [
      "+--------------------+------------------------+\n",
      "| Strange Weather    |   phi(Strange Weather) |\n",
      "+====================+========================+\n",
      "| Strange Weather(0) |                 0.6000 |\n",
      "+--------------------+------------------------+\n",
      "| Strange Weather(1) |                 0.4000 |\n",
      "+--------------------+------------------------+\n"
     ]
    }
   ],
   "source": [
    "print(prob_strangeweather['Strange Weather'])"
   ]
  },
  {
   "cell_type": "code",
   "execution_count": 52,
   "metadata": {},
   "outputs": [
    {
     "data": {
      "application/vnd.jupyter.widget-view+json": {
       "model_id": "db038ad996404a78abc09651655f0144",
       "version_major": 2,
       "version_minor": 0
      },
      "text/plain": [
       "HBox(children=(FloatProgress(value=0.0, max=2.0), HTML(value='')))"
      ]
     },
     "metadata": {},
     "output_type": "display_data"
    },
    {
     "data": {
      "application/vnd.jupyter.widget-view+json": {
       "model_id": "6598d8a9eee94c9c9bda89135464e523",
       "version_major": 2,
       "version_minor": 0
      },
      "text/plain": [
       "HBox(children=(FloatProgress(value=0.0, max=2.0), HTML(value='')))"
      ]
     },
     "metadata": {},
     "output_type": "display_data"
    },
    {
     "name": "stdout",
     "output_type": "stream",
     "text": [
      "\n"
     ]
    }
   ],
   "source": [
    "prob_playable_strangeweather = tennis_infer.query(\n",
    "        variables = ['Playable'], joint=False,\n",
    "        evidence = {'Strange Weather':0})"
   ]
  },
  {
   "cell_type": "code",
   "execution_count": 53,
   "metadata": {},
   "outputs": [
    {
     "name": "stdout",
     "output_type": "stream",
     "text": [
      "+-------------+-----------------+\n",
      "| Playable    |   phi(Playable) |\n",
      "+=============+=================+\n",
      "| Playable(0) |          0.2660 |\n",
      "+-------------+-----------------+\n",
      "| Playable(1) |          0.7340 |\n",
      "+-------------+-----------------+\n"
     ]
    }
   ],
   "source": [
    "print(prob_playable_strangeweather['Playable'])"
   ]
  },
  {
   "cell_type": "code",
   "execution_count": 56,
   "metadata": {},
   "outputs": [
    {
     "data": {
      "application/vnd.jupyter.widget-view+json": {
       "model_id": "e6860305dcbd4728a7b0f204c0a95856",
       "version_major": 2,
       "version_minor": 0
      },
      "text/plain": [
       "HBox(children=(FloatProgress(value=1.0, bar_style='info', max=1.0), HTML(value='')))"
      ]
     },
     "metadata": {},
     "output_type": "display_data"
    },
    {
     "data": {
      "application/vnd.jupyter.widget-view+json": {
       "model_id": "9fe8245b7b714d20bbb258ccbcd96a60",
       "version_major": 2,
       "version_minor": 0
      },
      "text/plain": [
       "HBox(children=(FloatProgress(value=1.0, bar_style='info', max=1.0), HTML(value='')))"
      ]
     },
     "metadata": {},
     "output_type": "display_data"
    },
    {
     "name": "stdout",
     "output_type": "stream",
     "text": [
      "\n"
     ]
    }
   ],
   "source": [
    "prob_rainy_strangeweather = tennis_infer.query(\n",
    "        variables = ['Rainy'], joint=False,\n",
    "        evidence = {'Strange Weather':0})"
   ]
  },
  {
   "cell_type": "code",
   "execution_count": 57,
   "metadata": {},
   "outputs": [
    {
     "name": "stdout",
     "output_type": "stream",
     "text": [
      "+----------+--------------+\n",
      "| Rainy    |   phi(Rainy) |\n",
      "+==========+==============+\n",
      "| Rainy(0) |       0.7000 |\n",
      "+----------+--------------+\n",
      "| Rainy(1) |       0.3000 |\n",
      "+----------+--------------+\n"
     ]
    }
   ],
   "source": [
    "print(prob_rainy_strangeweather['Rainy'])"
   ]
  },
  {
   "cell_type": "code",
   "execution_count": 58,
   "metadata": {},
   "outputs": [
    {
     "data": {
      "application/vnd.jupyter.widget-view+json": {
       "model_id": "e9e84c9ebd064bb5a0b7b5fa5c15cc9d",
       "version_major": 2,
       "version_minor": 0
      },
      "text/plain": [
       "HBox(children=(FloatProgress(value=1.0, bar_style='info', max=1.0), HTML(value='')))"
      ]
     },
     "metadata": {},
     "output_type": "display_data"
    },
    {
     "data": {
      "application/vnd.jupyter.widget-view+json": {
       "model_id": "9e5973bfa5d04e86b69dfff01d164349",
       "version_major": 2,
       "version_minor": 0
      },
      "text/plain": [
       "HBox(children=(FloatProgress(value=1.0, bar_style='info', max=1.0), HTML(value='')))"
      ]
     },
     "metadata": {},
     "output_type": "display_data"
    },
    {
     "name": "stdout",
     "output_type": "stream",
     "text": [
      "\n"
     ]
    }
   ],
   "source": [
    "prob_cloudy_strangeweather = tennis_infer.query(\n",
    "        variables = ['Cloudy'], joint=False,\n",
    "        evidence = {'Strange Weather':0})"
   ]
  },
  {
   "cell_type": "code",
   "execution_count": 59,
   "metadata": {},
   "outputs": [
    {
     "name": "stdout",
     "output_type": "stream",
     "text": [
      "+-----------+---------------+\n",
      "| Cloudy    |   phi(Cloudy) |\n",
      "+===========+===============+\n",
      "| Cloudy(0) |        0.9000 |\n",
      "+-----------+---------------+\n",
      "| Cloudy(1) |        0.1000 |\n",
      "+-----------+---------------+\n"
     ]
    }
   ],
   "source": [
    "print(prob_cloudy_strangeweather['Cloudy'])"
   ]
  },
  {
   "cell_type": "code",
   "execution_count": 60,
   "metadata": {},
   "outputs": [
    {
     "data": {
      "application/vnd.jupyter.widget-view+json": {
       "model_id": "fd450b58d8c247509ce7d8973dd9627d",
       "version_major": 2,
       "version_minor": 0
      },
      "text/plain": [
       "HBox(children=(FloatProgress(value=0.0, max=2.0), HTML(value='')))"
      ]
     },
     "metadata": {},
     "output_type": "display_data"
    },
    {
     "data": {
      "application/vnd.jupyter.widget-view+json": {
       "model_id": "4af0d8545af94bf58dff6aebafe39bb8",
       "version_major": 2,
       "version_minor": 0
      },
      "text/plain": [
       "HBox(children=(FloatProgress(value=0.0, max=2.0), HTML(value='')))"
      ]
     },
     "metadata": {},
     "output_type": "display_data"
    },
    {
     "name": "stdout",
     "output_type": "stream",
     "text": [
      "\n",
      "\n"
     ]
    }
   ],
   "source": [
    "prob_strangeweather_playable = tennis_infer.query(\n",
    "        variables = ['Strange Weather'], joint=False,\n",
    "        evidence = {'Playable':0})"
   ]
  },
  {
   "cell_type": "code",
   "execution_count": 61,
   "metadata": {},
   "outputs": [
    {
     "name": "stdout",
     "output_type": "stream",
     "text": [
      "+--------------------+------------------------+\n",
      "| Strange Weather    |   phi(Strange Weather) |\n",
      "+====================+========================+\n",
      "| Strange Weather(0) |                 0.3184 |\n",
      "+--------------------+------------------------+\n",
      "| Strange Weather(1) |                 0.6816 |\n",
      "+--------------------+------------------------+\n"
     ]
    }
   ],
   "source": [
    "print(prob_strangeweather_playable['Strange Weather'])"
   ]
  },
  {
   "cell_type": "code",
   "execution_count": 62,
   "metadata": {},
   "outputs": [
    {
     "data": {
      "application/vnd.jupyter.widget-view+json": {
       "model_id": "dc2a3a07fe864c08b334c69abc3a029a",
       "version_major": 2,
       "version_minor": 0
      },
      "text/plain": [
       "HBox(children=(FloatProgress(value=0.0, max=2.0), HTML(value='')))"
      ]
     },
     "metadata": {},
     "output_type": "display_data"
    },
    {
     "data": {
      "application/vnd.jupyter.widget-view+json": {
       "model_id": "17f75df565344e55b9d7dd7bb7f600c0",
       "version_major": 2,
       "version_minor": 0
      },
      "text/plain": [
       "HBox(children=(FloatProgress(value=0.0, max=2.0), HTML(value='')))"
      ]
     },
     "metadata": {},
     "output_type": "display_data"
    },
    {
     "name": "stdout",
     "output_type": "stream",
     "text": [
      "\n"
     ]
    }
   ],
   "source": [
    "prob_rainy_playable = tennis_infer.query(\n",
    "        variables = ['Rainy'], joint=False,\n",
    "        evidence = {'Playable':0})"
   ]
  },
  {
   "cell_type": "code",
   "execution_count": 63,
   "metadata": {},
   "outputs": [
    {
     "name": "stdout",
     "output_type": "stream",
     "text": [
      "+----------+--------------+\n",
      "| Rainy    |   phi(Rainy) |\n",
      "+==========+==============+\n",
      "| Rainy(0) |       0.0357 |\n",
      "+----------+--------------+\n",
      "| Rainy(1) |       0.9643 |\n",
      "+----------+--------------+\n"
     ]
    }
   ],
   "source": [
    "print(prob_rainy_playable['Rainy'])"
   ]
  },
  {
   "cell_type": "code",
   "execution_count": 64,
   "metadata": {},
   "outputs": [
    {
     "data": {
      "application/vnd.jupyter.widget-view+json": {
       "model_id": "cf3767112f214b5db011a99bc2146abb",
       "version_major": 2,
       "version_minor": 0
      },
      "text/plain": [
       "HBox(children=(FloatProgress(value=0.0, max=2.0), HTML(value='')))"
      ]
     },
     "metadata": {},
     "output_type": "display_data"
    },
    {
     "data": {
      "application/vnd.jupyter.widget-view+json": {
       "model_id": "ad545a383eed4baeaba594a273fba8e2",
       "version_major": 2,
       "version_minor": 0
      },
      "text/plain": [
       "HBox(children=(FloatProgress(value=0.0, max=2.0), HTML(value='')))"
      ]
     },
     "metadata": {},
     "output_type": "display_data"
    },
    {
     "name": "stdout",
     "output_type": "stream",
     "text": [
      "\n"
     ]
    }
   ],
   "source": [
    "prob_cloudy_playable = tennis_infer.query(\n",
    "        variables = ['Cloudy'], joint=False,\n",
    "        evidence = {'Playable':0})"
   ]
  },
  {
   "cell_type": "code",
   "execution_count": 65,
   "metadata": {},
   "outputs": [
    {
     "name": "stdout",
     "output_type": "stream",
     "text": [
      "+-----------+---------------+\n",
      "| Cloudy    |   phi(Cloudy) |\n",
      "+===========+===============+\n",
      "| Cloudy(0) |        0.4387 |\n",
      "+-----------+---------------+\n",
      "| Cloudy(1) |        0.5613 |\n",
      "+-----------+---------------+\n"
     ]
    }
   ],
   "source": [
    "print(prob_cloudy_playable['Cloudy'])"
   ]
  },
  {
   "cell_type": "code",
   "execution_count": 67,
   "metadata": {},
   "outputs": [
    {
     "data": {
      "application/vnd.jupyter.widget-view+json": {
       "model_id": "b70e8bf01a84433d8ea09d957054e77e",
       "version_major": 2,
       "version_minor": 0
      },
      "text/plain": [
       "HBox(children=(FloatProgress(value=0.0, max=1.0), HTML(value='')))"
      ]
     },
     "metadata": {},
     "output_type": "display_data"
    },
    {
     "data": {
      "application/vnd.jupyter.widget-view+json": {
       "model_id": "b20f689e0ddc441b8aa6427c4b6ca3dc",
       "version_major": 2,
       "version_minor": 0
      },
      "text/plain": [
       "HBox(children=(FloatProgress(value=0.0, max=1.0), HTML(value='')))"
      ]
     },
     "metadata": {},
     "output_type": "display_data"
    },
    {
     "name": "stdout",
     "output_type": "stream",
     "text": [
      "\n"
     ]
    }
   ],
   "source": [
    "prob_strangeweather_playable_rainy = tennis_infer.query(\n",
    "        variables = ['Strange Weather'], joint=False,\n",
    "        evidence = {'Playable':0, 'Rainy':0})"
   ]
  },
  {
   "cell_type": "code",
   "execution_count": 68,
   "metadata": {},
   "outputs": [
    {
     "name": "stdout",
     "output_type": "stream",
     "text": [
      "+--------------------+------------------------+\n",
      "| Strange Weather    |   phi(Strange Weather) |\n",
      "+====================+========================+\n",
      "| Strange Weather(0) |                 0.6804 |\n",
      "+--------------------+------------------------+\n",
      "| Strange Weather(1) |                 0.3196 |\n",
      "+--------------------+------------------------+\n"
     ]
    }
   ],
   "source": [
    "print(prob_strangeweather_playable_rainy['Strange Weather'])"
   ]
  },
  {
   "cell_type": "code",
   "execution_count": 69,
   "metadata": {},
   "outputs": [
    {
     "data": {
      "application/vnd.jupyter.widget-view+json": {
       "model_id": "fcf0c629d9d1401b8ad87e5f19ebba7c",
       "version_major": 2,
       "version_minor": 0
      },
      "text/plain": [
       "HBox(children=(FloatProgress(value=0.0, max=1.0), HTML(value='')))"
      ]
     },
     "metadata": {},
     "output_type": "display_data"
    },
    {
     "data": {
      "application/vnd.jupyter.widget-view+json": {
       "model_id": "1d512f963e534e3a9524c052b60637f2",
       "version_major": 2,
       "version_minor": 0
      },
      "text/plain": [
       "HBox(children=(FloatProgress(value=0.0, max=1.0), HTML(value='')))"
      ]
     },
     "metadata": {},
     "output_type": "display_data"
    },
    {
     "name": "stdout",
     "output_type": "stream",
     "text": [
      "\n"
     ]
    }
   ],
   "source": [
    "prob_playable_strangeweather_cloudy = tennis_infer.query(\n",
    "        variables = ['Cloudy'], joint=False,\n",
    "        evidence = {'Playable':0, 'Rainy':0})"
   ]
  },
  {
   "cell_type": "code",
   "execution_count": 70,
   "metadata": {},
   "outputs": [
    {
     "name": "stdout",
     "output_type": "stream",
     "text": [
      "+-----------+---------------+\n",
      "| Cloudy    |   phi(Cloudy) |\n",
      "+===========+===============+\n",
      "| Cloudy(0) |        0.2179 |\n",
      "+-----------+---------------+\n",
      "| Cloudy(1) |        0.7821 |\n",
      "+-----------+---------------+\n"
     ]
    }
   ],
   "source": [
    "print(prob_playable_strangeweather_cloudy['Cloudy'])"
   ]
  },
  {
   "cell_type": "code",
   "execution_count": null,
   "metadata": {},
   "outputs": [],
   "source": []
  }
 ],
 "metadata": {
  "kernelspec": {
   "display_name": "Python 3",
   "language": "python",
   "name": "python3"
  },
  "language_info": {
   "codemirror_mode": {
    "name": "ipython",
    "version": 3
   },
   "file_extension": ".py",
   "mimetype": "text/x-python",
   "name": "python",
   "nbconvert_exporter": "python",
   "pygments_lexer": "ipython3",
   "version": "3.7.6"
  }
 },
 "nbformat": 4,
 "nbformat_minor": 4
}
